{
  "nbformat": 4,
  "nbformat_minor": 0,
  "metadata": {
    "colab": {
      "provenance": [],
      "authorship_tag": "ABX9TyN93/mqExe0WC/0WNlR3oMZ",
      "include_colab_link": true
    },
    "kernelspec": {
      "name": "python3",
      "display_name": "Python 3"
    },
    "language_info": {
      "name": "python"
    }
  },
  "cells": [
    {
      "cell_type": "markdown",
      "metadata": {
        "id": "view-in-github",
        "colab_type": "text"
      },
      "source": [
        "<a href=\"https://colab.research.google.com/github/Mandar-Desurkar/Machine_Learning_Lab/blob/main/Logistic_Reg.ipynb\" target=\"_parent\"><img src=\"https://colab.research.google.com/assets/colab-badge.svg\" alt=\"Open In Colab\"/></a>"
      ]
    },
    {
      "cell_type": "code",
      "execution_count": 1,
      "metadata": {
        "colab": {
          "base_uri": "https://localhost:8080/"
        },
        "id": "rX2BjdWQBbHt",
        "outputId": "7866b2a4-f12c-474d-dd47-d306a1926152"
      },
      "outputs": [
        {
          "output_type": "stream",
          "name": "stdout",
          "text": [
            "      Model  Accuracy  Precision    Recall  F1 Score   ROC AUC\n",
            "0  AdaBoost  0.740260   0.636364  0.636364  0.636364  0.717172\n",
            "1   XGBoost  0.733766   0.606061  0.727273  0.661157  0.732323\n"
          ]
        }
      ],
      "source": [
        "import pandas as pd\n",
        "import numpy as np\n",
        "from sklearn.model_selection import train_test_split\n",
        "from sklearn.ensemble import AdaBoostClassifier\n",
        "from sklearn.metrics import accuracy_score, precision_score, recall_score, f1_score, roc_auc_score\n",
        "from xgboost import XGBClassifier\n",
        "from sklearn.preprocessing import StandardScaler\n",
        "from sklearn.impute import SimpleImputer\n",
        "\n",
        "# Load dataset\n",
        "\n",
        "data = pd.read_csv('diabetes1.csv')\n",
        "\n",
        "# Fill missing values\n",
        "imputer = SimpleImputer(missing_values=np.nan, strategy='mean')\n",
        "data_imputed = pd.DataFrame(imputer.fit_transform(data), columns=data.columns)\n",
        "\n",
        "# Ensure target is integer (binary)\n",
        "data_imputed['Outcome'] = data_imputed['Outcome'].astype(int)\n",
        "\n",
        "# Split data into features and target\n",
        "X = data_imputed.drop('Outcome', axis=1)\n",
        "y = data_imputed['Outcome']\n",
        "\n",
        "# Normalize features\n",
        "scaler = StandardScaler()\n",
        "X_scaled = scaler.fit_transform(X)\n",
        "\n",
        "# Split data into training and testing sets\n",
        "X_train, X_test, y_train, y_test = train_test_split(X_scaled, y, test_size=0.2, random_state=42)\n",
        "\n",
        "# AdaBoost Classifier\n",
        "ada = AdaBoostClassifier(n_estimators=100, random_state=42)\n",
        "ada.fit(X_train, y_train)\n",
        "y_pred_ada = ada.predict(X_test)\n",
        "\n",
        "# XGBoost Classifier\n",
        "xgb = XGBClassifier(use_label_encoder=False, eval_metric='logloss')\n",
        "xgb.fit(X_train, y_train)\n",
        "y_pred_xgb = xgb.predict(X_test)\n",
        "\n",
        "# Evaluation metrics\n",
        "metrics = {\n",
        "    'Model': ['AdaBoost', 'XGBoost'],\n",
        "    'Accuracy': [accuracy_score(y_test, y_pred_ada), accuracy_score(y_test, y_pred_xgb)],\n",
        "    'Precision': [precision_score(y_test, y_pred_ada), precision_score(y_test, y_pred_xgb)],\n",
        "    'Recall': [recall_score(y_test, y_pred_ada), recall_score(y_test, y_pred_xgb)],\n",
        "    'F1 Score': [f1_score(y_test, y_pred_ada), f1_score(y_test, y_pred_xgb)],\n",
        "    'ROC AUC': [roc_auc_score(y_test, y_pred_ada), roc_auc_score(y_test, y_pred_xgb)]\n",
        "}\n",
        "\n",
        "# Create DataFrame to display the metrics\n",
        "results_df = pd.DataFrame(metrics)\n",
        "print(results_df)"
      ]
    }
  ]
}
